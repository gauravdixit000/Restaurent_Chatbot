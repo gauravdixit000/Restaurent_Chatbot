{
 "cells": [
  {
   "cell_type": "markdown",
   "id": "69e333db",
   "metadata": {},
   "source": [
    "# Building a simple chatbot from scratch using python."
   ]
  },
  {
   "cell_type": "markdown",
   "id": "6171c587",
   "metadata": {},
   "source": [
    "# NLP"
   ]
  },
  {
   "cell_type": "raw",
   "id": "169ab5e1",
   "metadata": {},
   "source": [
    "NLP is a way for computers to analyze, understand, and derive meaning from human language in a smart and useful way. By utilizing NLP, developers can organize and structure knowledge to perform tasks such as automatic summarization, translation, named entity recognition, relationship extraction, sentiment analysis, speech recognition, and topic segmentation."
   ]
  },
  {
   "cell_type": "markdown",
   "id": "f4ee767f",
   "metadata": {},
   "source": [
    "# Import Necessary Libraries."
   ]
  },
  {
   "cell_type": "code",
   "execution_count": 1,
   "id": "79720795",
   "metadata": {},
   "outputs": [],
   "source": [
    "import io\n",
    "import random\n",
    "import string # to process standard python strings\n",
    "import numpy as np\n",
    "import pandas as pd\n",
    "from sklearn.feature_extraction.text import TfidfVectorizer\n",
    "from sklearn.metrics.pairwise import cosine_similarity\n",
    "import warnings\n",
    "warnings.filterwarnings('ignore')\n",
    "\n",
    "import nltk\n",
    "from datetime import datetime"
   ]
  },
  {
   "cell_type": "markdown",
   "id": "9a8c487e",
   "metadata": {},
   "source": [
    "# Reading the corpus."
   ]
  },
  {
   "cell_type": "code",
   "execution_count": 2,
   "id": "8708a385",
   "metadata": {},
   "outputs": [],
   "source": [
    "f1=open('chatbot.txt','r',errors = 'ignore')\n",
    "raw1=f1.read()\n",
    "raw1 = raw1.lower()# converts to lowercase\n",
    "\n",
    "f2 = open('chatbot2.txt','r',errors = 'ignore')\n",
    "raw2=f2.read()\n",
    "raw2 = raw2.lower()"
   ]
  },
  {
   "cell_type": "markdown",
   "id": "1b0dc19d",
   "metadata": {},
   "source": [
    " The main issue with text data is that it is all in text format (strings). However, the Machine learning algorithms need some sort of numerical feature vector in order to perform the task. So before we start with any NLP project we need to pre-process it to make it ideal for working. Basic text pre-processing includes:\n",
    "\n",
    "Converting the entire text into uppercase or lowercase, so that the algorithm does not treat the same words in different cases as different\n",
    "\n",
    "Tokenization: Tokenization is just the term used to describe the process of converting the normal text strings into a list of tokens i.e words that we actually want. Sentence tokenizer can be used to find the list of sentences and Word tokenizer can be used to find the list of words in strings.\n",
    "\n",
    "The NLTK data package includes a pre-trained Punkt tokenizer for English.\n",
    "\n",
    "Removing Noise i.e everything that isn’t in a standard number or letter.\n",
    "Removing the Stop words. Sometimes, some extremely common words which would appear to be of little value in helping select documents matching a user need are excluded from the vocabulary entirely. These words are called stop words\n",
    "Stemming: Stemming is the process of reducing inflected (or sometimes derived) words to their stem, base or root form — generally a written word form. Example if we were to stem the following words: “Stems”, “Stemming”, “Stemmed”, “and Stemtization”, the result would be a single word “stem”.\n",
    "Lemmatization: A slight variant of stemming is lemmatization. The major difference between these is, that, stemming can often create non-existent words, whereas lemmas are actual words. So, your root stem, meaning the word you end up with, is not something you can just look up in a dictionary, but you can look up a lemma. Examples of Lemmatization are that “run” is a base form for words like “running” or “ran” or that the word “better” and “good” are in the same lemma so they are considered the same."
   ]
  },
  {
   "cell_type": "markdown",
   "id": "6c8c67e9",
   "metadata": {},
   "source": [
    "# Tokenisation."
   ]
  },
  {
   "cell_type": "code",
   "execution_count": 3,
   "id": "63239976",
   "metadata": {},
   "outputs": [],
   "source": [
    "sent_tokens1 = nltk.sent_tokenize(raw1)# converts to list of sentences \n",
    "word_tokens1 = nltk.word_tokenize(raw1)# converts to list of words\n",
    "\n",
    "sent_tokens2 = nltk.sent_tokenize(raw2)# converts to list of sentences \n",
    "word_tokens2 = nltk.word_tokenize(raw2)# converts to list of words"
   ]
  },
  {
   "cell_type": "markdown",
   "id": "500917c6",
   "metadata": {},
   "source": [
    "# Pre-Processing"
   ]
  },
  {
   "cell_type": "code",
   "execution_count": 4,
   "id": "a91d47f4",
   "metadata": {},
   "outputs": [],
   "source": [
    "from nltk.stem import WordNetLemmatizer"
   ]
  },
  {
   "cell_type": "code",
   "execution_count": 5,
   "id": "9f3ea8a8",
   "metadata": {},
   "outputs": [],
   "source": [
    "lemmer = nltk.stem.WordNetLemmatizer()\n",
    "#WordNet is a semantically-oriented dictionary of English included in NLTK.\n",
    "def LemTokens(tokens):\n",
    "    return [lemmer.lemmatize(token) for token in tokens]\n",
    "remove_punct_dict = dict((ord(punct), None) for punct in string.punctuation)\n",
    "\n",
    "def LemNormalize(text):\n",
    "   return LemTokens(nltk.word_tokenize(text.lower().translate(remove_punct_dict)))"
   ]
  },
  {
   "cell_type": "markdown",
   "id": "37e27a58",
   "metadata": {},
   "source": [
    "# Keyword Matching."
   ]
  },
  {
   "cell_type": "code",
   "execution_count": 6,
   "id": "0f86181d",
   "metadata": {},
   "outputs": [],
   "source": [
    "GREETING_INPUTS = (\"hello\", \"hi\", \"greetings\", \"whats!up\", \"what's up\",\"hey\",\"hye\")\n",
    "GREETING_RESPONSES = [\"hi\", \"hey\", \"hi there\", \"hello\", \"I am glad! You are talking to me\",\"hi,buddy\"]\n",
    "def greeting(sentence):\n",
    "    for word in sentence.split():\n",
    "        if word.lower() in GREETING_INPUTS:\n",
    "            strg = random.choice(GREETING_RESPONSES)\n",
    "            return str(strg)"
   ]
  },
  {
   "cell_type": "code",
   "execution_count": 7,
   "id": "36489f50",
   "metadata": {},
   "outputs": [],
   "source": [
    "def response(user_response):\n",
    "    robo_response=''\n",
    "    if(user_response.lower() == 'restaurent menu' or user_response.lower() == 'menu'):\n",
    "        sent_tokens1.append(user_response)\n",
    "        TfidfVec = TfidfVectorizer(tokenizer=LemNormalize, stop_words='english')\n",
    "        tfidf1 = TfidfVec.fit_transform(sent_tokens1)\n",
    "        vals = cosine_similarity(tfidf1[-1], tfidf1)\n",
    "        idx=vals.argsort()[0][-2]\n",
    "        flat = vals.flatten()\n",
    "        flat.sort()\n",
    "        req_tfidf1 = flat[-2]\n",
    "        if(req_tfidf1==0):\n",
    "            robo_response=robo_response+\"I am sorry! I don't understand you\"\n",
    "            return robo_response\n",
    "        else:\n",
    "            robo_response = robo_response+sent_tokens1[idx]\n",
    "            return robo_response\n",
    "    else:\n",
    "        sent_tokens2.append(user_response)\n",
    "        TfidfVec = TfidfVectorizer(tokenizer=LemNormalize, stop_words='english')\n",
    "        tfidf2 = TfidfVec.fit_transform(sent_tokens2)\n",
    "        vals = cosine_similarity(tfidf2[-1], tfidf2)\n",
    "        idx=vals.argsort()[0][-2]\n",
    "        flat = vals.flatten()\n",
    "        flat.sort()\n",
    "        req_tfidf1 = flat[-2]\n",
    "        if(req_tfidf1==0):\n",
    "            robo_response=robo_response+\"I am sorry! I don't understand you\"\n",
    "            return robo_response\n",
    "        else:\n",
    "            robo_response = robo_response+sent_tokens2[idx]\n",
    "            return robo_response\n",
    "        "
   ]
  },
  {
   "cell_type": "code",
   "execution_count": 8,
   "id": "6c0fbc5f",
   "metadata": {},
   "outputs": [
    {
     "name": "stdout",
     "output_type": "stream",
     "text": [
      "ROBO: Hi there! Lets chat, I'm your Restaurent bot assistant. What would you like to discuss. \n",
      "                      Restaurent Menu                                        \n",
      "                        Book a table                                         \n",
      "                      Basic Questions                                        \n",
      "                      Contact Support                                        \n",
      "BOOKING\n",
      "ROBO:\n",
      "           Table Reservation              \n",
      "     We look forward to serving you.      \n",
      "The number of maximum persons:- 2\n",
      "Date:- 05/30/22\n",
      "Time:- 10:59:16\n",
      "Press 1 for reserve now\n",
      "1\n",
      "Press 0 for exit seat booking otherwise press 1\n",
      "1\n",
      "Enter your Name:-\n",
      "Enter your Email:-\n",
      "Enter your Phone number:-\n",
      "Total available Tables in Restaurent:- 15\n",
      "Availability: [1, 2, 3, 4, 5, 6, 7, 8, 9, 10, 11, 12, 13, 14, 15]\n",
      "Please Enter your table number to check availability\n",
      "Enter the Table Number as your Wish:-5\n",
      "Your Table number 5 is confirmed.Please Visit.\n",
      "Thank You\n",
      "Press 0 for exit seat booking otherwise press 1\n",
      "0\n"
     ]
    }
   ],
   "source": [
    "flag=True\n",
    "print(\"ROBO: Hi there! Lets chat, I'm your Restaurent bot assistant. What would you like to discuss. \")\n",
    "print(\"                      Restaurent Menu                                        \")\n",
    "print(\"                        Book a table                                         \")\n",
    "print(\"                      Basic Questions                                        \")\n",
    "print(\"                      Contact Support                                        \")\n",
    "while(flag==True):\n",
    "    user_response = input()\n",
    "    user_response=user_response.lower()\n",
    "    if(user_response!='bye'):\n",
    "        if(user_response=='thanks' or user_response=='thank you' ):\n",
    "            flag=False\n",
    "            print(\"ROBO: You are welcome..\")\n",
    "        elif(user_response.lower()==\"book a table\" or user_response.lower()==\"booking\" or user_response.lower()==\"reserve a table\" ):\n",
    "            print(\"ROBO:\")\n",
    "            print(\"           Table Reservation              \")\n",
    "            print(\"     We look forward to serving you.      \")\n",
    "            print(\"The number of maximum persons:-\",2)\n",
    "            print(\"Date:-\",datetime.now().strftime(\"%x\"))\n",
    "            print(\"Time:-\",datetime.now().strftime(\"%X\"))\n",
    "            print(\"Press 1 for reserve now\")\n",
    "            global opened,closed\n",
    "            opened = [1,2,3,4,5,6,7,8,9,10,11,12,13,14,15]\n",
    "            closed = []\n",
    "            ch = int(input())\n",
    "            while(ch!=0):\n",
    "                print(\"Press 0 for exit seat booking otherwise press 1\")\n",
    "                ch = int(input())\n",
    "                if ch==0:\n",
    "                    break\n",
    "                Name = input(\"Enter your Name:-\")\n",
    "                email = input(\"Enter your Email:-\")\n",
    "                PhoneNumber = input(\"Enter your Phone number:-\")\n",
    "                print(\"Total available Tables in Restaurent:-\",15)\n",
    "                print(\"Availability:\",opened)\n",
    "                print(\"Please Enter your table number to check availability\")\n",
    "                reserve = int(input(\"Enter the Table Number as your Wish:-\"))\n",
    "                if (reserve not in closed):\n",
    "                    closed.append(reserve)\n",
    "                    opened.remove(reserve)\n",
    "                    print(\"Your Table number %d is confirmed.Please Visit.\"%reserve)\n",
    "                    print(\"Thank You\")    \n",
    "                else:\n",
    "                    print(\"Sorry,Table number %d is already reserved.\"%reserve)\n",
    "                    print(\"Please choose another Table Number\")\n",
    "            break     \n",
    "                \n",
    "        else:\n",
    "            if(greeting(user_response)!=None):\n",
    "                print(\"ROBO: \"+greeting(user_response))\n",
    "            elif(user_response.lower() == 'restaurent menu' or user_response.lower() == 'menu'):\n",
    "                print(\"ROBO: \",end=\"\")\n",
    "                print(response(user_response))\n",
    "                sent_tokens1.remove(user_response)\n",
    "            elif(user_response.lower() != 'restaurent menu' or user_response.lower() != 'menu'):\n",
    "                print(\"ROBO: \",end=\"\")\n",
    "                print(response(user_response))\n",
    "                sent_tokens2.remove(user_response)\n",
    "    else:\n",
    "        flag=False\n",
    "        print(\"ROBO: Bye! take care..\")"
   ]
  },
  {
   "cell_type": "code",
   "execution_count": null,
   "id": "e0acd071",
   "metadata": {},
   "outputs": [],
   "source": []
  }
 ],
 "metadata": {
  "kernelspec": {
   "display_name": "Python 3 (ipykernel)",
   "language": "python",
   "name": "python3"
  },
  "language_info": {
   "codemirror_mode": {
    "name": "ipython",
    "version": 3
   },
   "file_extension": ".py",
   "mimetype": "text/x-python",
   "name": "python",
   "nbconvert_exporter": "python",
   "pygments_lexer": "ipython3",
   "version": "3.9.7"
  }
 },
 "nbformat": 4,
 "nbformat_minor": 5
}
